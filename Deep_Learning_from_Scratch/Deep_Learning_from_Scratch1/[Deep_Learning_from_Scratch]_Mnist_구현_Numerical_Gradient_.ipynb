{
  "cells": [
    {
      "cell_type": "markdown",
      "metadata": {
        "id": "view-in-github",
        "colab_type": "text"
      },
      "source": [
        "<a href=\"https://colab.research.google.com/github/sunny0103/online_course_or_book_reviewnote/blob/main/Deep_Learning_from_Scratch/Deep_Learning_from_Scratch1/%5BDeep_Learning_from_Scratch%5D_Mnist_%EA%B5%AC%ED%98%84_Numerical_Gradient_.ipynb\" target=\"_parent\"><img src=\"https://colab.research.google.com/assets/colab-badge.svg\" alt=\"Open In Colab\"/></a>"
      ]
    },
    {
      "cell_type": "markdown",
      "id": "29e6a604",
      "metadata": {
        "id": "29e6a604"
      },
      "source": [
        "# Mnist Data"
      ]
    },
    {
      "cell_type": "markdown",
      "id": "fe0bde95",
      "metadata": {
        "id": "fe0bde95"
      },
      "source": [
        "## data load and import libraries"
      ]
    },
    {
      "cell_type": "code",
      "execution_count": null,
      "id": "a2f31f87",
      "metadata": {
        "id": "a2f31f87"
      },
      "outputs": [],
      "source": [
        "from sklearn.datasets import load_digits\n",
        "import pandas as pd\n",
        "import numpy as np\n",
        "import matplotlib.pyplot as plt\n",
        "from sklearn.model_selection import train_test_split\n",
        "%matplotlib inline"
      ]
    },
    {
      "cell_type": "code",
      "execution_count": null,
      "id": "9824513a",
      "metadata": {
        "id": "9824513a"
      },
      "outputs": [],
      "source": [
        "mnist = load_digits()"
      ]
    },
    {
      "cell_type": "code",
      "execution_count": null,
      "id": "42e03e12",
      "metadata": {
        "colab": {
          "base_uri": "https://localhost:8080/"
        },
        "id": "42e03e12",
        "outputId": "02e88593-3fa9-4183-d059-525b72ffd8a5"
      },
      "outputs": [
        {
          "output_type": "execute_result",
          "data": {
            "text/plain": [
              "dict_keys(['data', 'target', 'frame', 'feature_names', 'target_names', 'images', 'DESCR'])"
            ]
          },
          "metadata": {},
          "execution_count": 3
        }
      ],
      "source": [
        "mnist.keys()"
      ]
    },
    {
      "cell_type": "code",
      "execution_count": null,
      "id": "c06ba4bb",
      "metadata": {
        "colab": {
          "base_uri": "https://localhost:8080/",
          "height": 300
        },
        "id": "c06ba4bb",
        "outputId": "a3f80bd0-46e1-4cfc-ead8-1297d4d1051e"
      },
      "outputs": [
        {
          "output_type": "execute_result",
          "data": {
            "text/plain": [
              "   pixel_0_0  pixel_0_1  pixel_0_2  pixel_0_3  pixel_0_4  pixel_0_5  \\\n",
              "0        0.0        0.0        5.0       13.0        9.0        1.0   \n",
              "1        0.0        0.0        0.0       12.0       13.0        5.0   \n",
              "2        0.0        0.0        0.0        4.0       15.0       12.0   \n",
              "3        0.0        0.0        7.0       15.0       13.0        1.0   \n",
              "4        0.0        0.0        0.0        1.0       11.0        0.0   \n",
              "\n",
              "   pixel_0_6  pixel_0_7  pixel_1_0  pixel_1_1  ...  pixel_6_6  pixel_6_7  \\\n",
              "0        0.0        0.0        0.0        0.0  ...        0.0        0.0   \n",
              "1        0.0        0.0        0.0        0.0  ...        0.0        0.0   \n",
              "2        0.0        0.0        0.0        0.0  ...        5.0        0.0   \n",
              "3        0.0        0.0        0.0        8.0  ...        9.0        0.0   \n",
              "4        0.0        0.0        0.0        0.0  ...        0.0        0.0   \n",
              "\n",
              "   pixel_7_0  pixel_7_1  pixel_7_2  pixel_7_3  pixel_7_4  pixel_7_5  \\\n",
              "0        0.0        0.0        6.0       13.0       10.0        0.0   \n",
              "1        0.0        0.0        0.0       11.0       16.0       10.0   \n",
              "2        0.0        0.0        0.0        3.0       11.0       16.0   \n",
              "3        0.0        0.0        7.0       13.0       13.0        9.0   \n",
              "4        0.0        0.0        0.0        2.0       16.0        4.0   \n",
              "\n",
              "   pixel_7_6  pixel_7_7  \n",
              "0        0.0        0.0  \n",
              "1        0.0        0.0  \n",
              "2        9.0        0.0  \n",
              "3        0.0        0.0  \n",
              "4        0.0        0.0  \n",
              "\n",
              "[5 rows x 64 columns]"
            ],
            "text/html": [
              "\n",
              "  <div id=\"df-34e4fe18-54a8-466b-b3cb-6a84c42aad23\">\n",
              "    <div class=\"colab-df-container\">\n",
              "      <div>\n",
              "<style scoped>\n",
              "    .dataframe tbody tr th:only-of-type {\n",
              "        vertical-align: middle;\n",
              "    }\n",
              "\n",
              "    .dataframe tbody tr th {\n",
              "        vertical-align: top;\n",
              "    }\n",
              "\n",
              "    .dataframe thead th {\n",
              "        text-align: right;\n",
              "    }\n",
              "</style>\n",
              "<table border=\"1\" class=\"dataframe\">\n",
              "  <thead>\n",
              "    <tr style=\"text-align: right;\">\n",
              "      <th></th>\n",
              "      <th>pixel_0_0</th>\n",
              "      <th>pixel_0_1</th>\n",
              "      <th>pixel_0_2</th>\n",
              "      <th>pixel_0_3</th>\n",
              "      <th>pixel_0_4</th>\n",
              "      <th>pixel_0_5</th>\n",
              "      <th>pixel_0_6</th>\n",
              "      <th>pixel_0_7</th>\n",
              "      <th>pixel_1_0</th>\n",
              "      <th>pixel_1_1</th>\n",
              "      <th>...</th>\n",
              "      <th>pixel_6_6</th>\n",
              "      <th>pixel_6_7</th>\n",
              "      <th>pixel_7_0</th>\n",
              "      <th>pixel_7_1</th>\n",
              "      <th>pixel_7_2</th>\n",
              "      <th>pixel_7_3</th>\n",
              "      <th>pixel_7_4</th>\n",
              "      <th>pixel_7_5</th>\n",
              "      <th>pixel_7_6</th>\n",
              "      <th>pixel_7_7</th>\n",
              "    </tr>\n",
              "  </thead>\n",
              "  <tbody>\n",
              "    <tr>\n",
              "      <th>0</th>\n",
              "      <td>0.0</td>\n",
              "      <td>0.0</td>\n",
              "      <td>5.0</td>\n",
              "      <td>13.0</td>\n",
              "      <td>9.0</td>\n",
              "      <td>1.0</td>\n",
              "      <td>0.0</td>\n",
              "      <td>0.0</td>\n",
              "      <td>0.0</td>\n",
              "      <td>0.0</td>\n",
              "      <td>...</td>\n",
              "      <td>0.0</td>\n",
              "      <td>0.0</td>\n",
              "      <td>0.0</td>\n",
              "      <td>0.0</td>\n",
              "      <td>6.0</td>\n",
              "      <td>13.0</td>\n",
              "      <td>10.0</td>\n",
              "      <td>0.0</td>\n",
              "      <td>0.0</td>\n",
              "      <td>0.0</td>\n",
              "    </tr>\n",
              "    <tr>\n",
              "      <th>1</th>\n",
              "      <td>0.0</td>\n",
              "      <td>0.0</td>\n",
              "      <td>0.0</td>\n",
              "      <td>12.0</td>\n",
              "      <td>13.0</td>\n",
              "      <td>5.0</td>\n",
              "      <td>0.0</td>\n",
              "      <td>0.0</td>\n",
              "      <td>0.0</td>\n",
              "      <td>0.0</td>\n",
              "      <td>...</td>\n",
              "      <td>0.0</td>\n",
              "      <td>0.0</td>\n",
              "      <td>0.0</td>\n",
              "      <td>0.0</td>\n",
              "      <td>0.0</td>\n",
              "      <td>11.0</td>\n",
              "      <td>16.0</td>\n",
              "      <td>10.0</td>\n",
              "      <td>0.0</td>\n",
              "      <td>0.0</td>\n",
              "    </tr>\n",
              "    <tr>\n",
              "      <th>2</th>\n",
              "      <td>0.0</td>\n",
              "      <td>0.0</td>\n",
              "      <td>0.0</td>\n",
              "      <td>4.0</td>\n",
              "      <td>15.0</td>\n",
              "      <td>12.0</td>\n",
              "      <td>0.0</td>\n",
              "      <td>0.0</td>\n",
              "      <td>0.0</td>\n",
              "      <td>0.0</td>\n",
              "      <td>...</td>\n",
              "      <td>5.0</td>\n",
              "      <td>0.0</td>\n",
              "      <td>0.0</td>\n",
              "      <td>0.0</td>\n",
              "      <td>0.0</td>\n",
              "      <td>3.0</td>\n",
              "      <td>11.0</td>\n",
              "      <td>16.0</td>\n",
              "      <td>9.0</td>\n",
              "      <td>0.0</td>\n",
              "    </tr>\n",
              "    <tr>\n",
              "      <th>3</th>\n",
              "      <td>0.0</td>\n",
              "      <td>0.0</td>\n",
              "      <td>7.0</td>\n",
              "      <td>15.0</td>\n",
              "      <td>13.0</td>\n",
              "      <td>1.0</td>\n",
              "      <td>0.0</td>\n",
              "      <td>0.0</td>\n",
              "      <td>0.0</td>\n",
              "      <td>8.0</td>\n",
              "      <td>...</td>\n",
              "      <td>9.0</td>\n",
              "      <td>0.0</td>\n",
              "      <td>0.0</td>\n",
              "      <td>0.0</td>\n",
              "      <td>7.0</td>\n",
              "      <td>13.0</td>\n",
              "      <td>13.0</td>\n",
              "      <td>9.0</td>\n",
              "      <td>0.0</td>\n",
              "      <td>0.0</td>\n",
              "    </tr>\n",
              "    <tr>\n",
              "      <th>4</th>\n",
              "      <td>0.0</td>\n",
              "      <td>0.0</td>\n",
              "      <td>0.0</td>\n",
              "      <td>1.0</td>\n",
              "      <td>11.0</td>\n",
              "      <td>0.0</td>\n",
              "      <td>0.0</td>\n",
              "      <td>0.0</td>\n",
              "      <td>0.0</td>\n",
              "      <td>0.0</td>\n",
              "      <td>...</td>\n",
              "      <td>0.0</td>\n",
              "      <td>0.0</td>\n",
              "      <td>0.0</td>\n",
              "      <td>0.0</td>\n",
              "      <td>0.0</td>\n",
              "      <td>2.0</td>\n",
              "      <td>16.0</td>\n",
              "      <td>4.0</td>\n",
              "      <td>0.0</td>\n",
              "      <td>0.0</td>\n",
              "    </tr>\n",
              "  </tbody>\n",
              "</table>\n",
              "<p>5 rows × 64 columns</p>\n",
              "</div>\n",
              "      <button class=\"colab-df-convert\" onclick=\"convertToInteractive('df-34e4fe18-54a8-466b-b3cb-6a84c42aad23')\"\n",
              "              title=\"Convert this dataframe to an interactive table.\"\n",
              "              style=\"display:none;\">\n",
              "        \n",
              "  <svg xmlns=\"http://www.w3.org/2000/svg\" height=\"24px\"viewBox=\"0 0 24 24\"\n",
              "       width=\"24px\">\n",
              "    <path d=\"M0 0h24v24H0V0z\" fill=\"none\"/>\n",
              "    <path d=\"M18.56 5.44l.94 2.06.94-2.06 2.06-.94-2.06-.94-.94-2.06-.94 2.06-2.06.94zm-11 1L8.5 8.5l.94-2.06 2.06-.94-2.06-.94L8.5 2.5l-.94 2.06-2.06.94zm10 10l.94 2.06.94-2.06 2.06-.94-2.06-.94-.94-2.06-.94 2.06-2.06.94z\"/><path d=\"M17.41 7.96l-1.37-1.37c-.4-.4-.92-.59-1.43-.59-.52 0-1.04.2-1.43.59L10.3 9.45l-7.72 7.72c-.78.78-.78 2.05 0 2.83L4 21.41c.39.39.9.59 1.41.59.51 0 1.02-.2 1.41-.59l7.78-7.78 2.81-2.81c.8-.78.8-2.07 0-2.86zM5.41 20L4 18.59l7.72-7.72 1.47 1.35L5.41 20z\"/>\n",
              "  </svg>\n",
              "      </button>\n",
              "      \n",
              "  <style>\n",
              "    .colab-df-container {\n",
              "      display:flex;\n",
              "      flex-wrap:wrap;\n",
              "      gap: 12px;\n",
              "    }\n",
              "\n",
              "    .colab-df-convert {\n",
              "      background-color: #E8F0FE;\n",
              "      border: none;\n",
              "      border-radius: 50%;\n",
              "      cursor: pointer;\n",
              "      display: none;\n",
              "      fill: #1967D2;\n",
              "      height: 32px;\n",
              "      padding: 0 0 0 0;\n",
              "      width: 32px;\n",
              "    }\n",
              "\n",
              "    .colab-df-convert:hover {\n",
              "      background-color: #E2EBFA;\n",
              "      box-shadow: 0px 1px 2px rgba(60, 64, 67, 0.3), 0px 1px 3px 1px rgba(60, 64, 67, 0.15);\n",
              "      fill: #174EA6;\n",
              "    }\n",
              "\n",
              "    [theme=dark] .colab-df-convert {\n",
              "      background-color: #3B4455;\n",
              "      fill: #D2E3FC;\n",
              "    }\n",
              "\n",
              "    [theme=dark] .colab-df-convert:hover {\n",
              "      background-color: #434B5C;\n",
              "      box-shadow: 0px 1px 3px 1px rgba(0, 0, 0, 0.15);\n",
              "      filter: drop-shadow(0px 1px 2px rgba(0, 0, 0, 0.3));\n",
              "      fill: #FFFFFF;\n",
              "    }\n",
              "  </style>\n",
              "\n",
              "      <script>\n",
              "        const buttonEl =\n",
              "          document.querySelector('#df-34e4fe18-54a8-466b-b3cb-6a84c42aad23 button.colab-df-convert');\n",
              "        buttonEl.style.display =\n",
              "          google.colab.kernel.accessAllowed ? 'block' : 'none';\n",
              "\n",
              "        async function convertToInteractive(key) {\n",
              "          const element = document.querySelector('#df-34e4fe18-54a8-466b-b3cb-6a84c42aad23');\n",
              "          const dataTable =\n",
              "            await google.colab.kernel.invokeFunction('convertToInteractive',\n",
              "                                                     [key], {});\n",
              "          if (!dataTable) return;\n",
              "\n",
              "          const docLinkHtml = 'Like what you see? Visit the ' +\n",
              "            '<a target=\"_blank\" href=https://colab.research.google.com/notebooks/data_table.ipynb>data table notebook</a>'\n",
              "            + ' to learn more about interactive tables.';\n",
              "          element.innerHTML = '';\n",
              "          dataTable['output_type'] = 'display_data';\n",
              "          await google.colab.output.renderOutput(dataTable, element);\n",
              "          const docLink = document.createElement('div');\n",
              "          docLink.innerHTML = docLinkHtml;\n",
              "          element.appendChild(docLink);\n",
              "        }\n",
              "      </script>\n",
              "    </div>\n",
              "  </div>\n",
              "  "
            ]
          },
          "metadata": {},
          "execution_count": 4
        }
      ],
      "source": [
        "pd.DataFrame(mnist.data, columns=mnist.feature_names).head()"
      ]
    },
    {
      "cell_type": "code",
      "execution_count": null,
      "id": "49463b44",
      "metadata": {
        "colab": {
          "base_uri": "https://localhost:8080/",
          "height": 206
        },
        "id": "49463b44",
        "outputId": "4143fb82-44bf-4091-b6b3-f31dee01ffe8"
      },
      "outputs": [
        {
          "output_type": "execute_result",
          "data": {
            "text/plain": [
              "   0\n",
              "0  0\n",
              "1  1\n",
              "2  2\n",
              "3  3\n",
              "4  4"
            ],
            "text/html": [
              "\n",
              "  <div id=\"df-e9db3655-0bdd-4812-bf5d-67342a55ab54\">\n",
              "    <div class=\"colab-df-container\">\n",
              "      <div>\n",
              "<style scoped>\n",
              "    .dataframe tbody tr th:only-of-type {\n",
              "        vertical-align: middle;\n",
              "    }\n",
              "\n",
              "    .dataframe tbody tr th {\n",
              "        vertical-align: top;\n",
              "    }\n",
              "\n",
              "    .dataframe thead th {\n",
              "        text-align: right;\n",
              "    }\n",
              "</style>\n",
              "<table border=\"1\" class=\"dataframe\">\n",
              "  <thead>\n",
              "    <tr style=\"text-align: right;\">\n",
              "      <th></th>\n",
              "      <th>0</th>\n",
              "    </tr>\n",
              "  </thead>\n",
              "  <tbody>\n",
              "    <tr>\n",
              "      <th>0</th>\n",
              "      <td>0</td>\n",
              "    </tr>\n",
              "    <tr>\n",
              "      <th>1</th>\n",
              "      <td>1</td>\n",
              "    </tr>\n",
              "    <tr>\n",
              "      <th>2</th>\n",
              "      <td>2</td>\n",
              "    </tr>\n",
              "    <tr>\n",
              "      <th>3</th>\n",
              "      <td>3</td>\n",
              "    </tr>\n",
              "    <tr>\n",
              "      <th>4</th>\n",
              "      <td>4</td>\n",
              "    </tr>\n",
              "  </tbody>\n",
              "</table>\n",
              "</div>\n",
              "      <button class=\"colab-df-convert\" onclick=\"convertToInteractive('df-e9db3655-0bdd-4812-bf5d-67342a55ab54')\"\n",
              "              title=\"Convert this dataframe to an interactive table.\"\n",
              "              style=\"display:none;\">\n",
              "        \n",
              "  <svg xmlns=\"http://www.w3.org/2000/svg\" height=\"24px\"viewBox=\"0 0 24 24\"\n",
              "       width=\"24px\">\n",
              "    <path d=\"M0 0h24v24H0V0z\" fill=\"none\"/>\n",
              "    <path d=\"M18.56 5.44l.94 2.06.94-2.06 2.06-.94-2.06-.94-.94-2.06-.94 2.06-2.06.94zm-11 1L8.5 8.5l.94-2.06 2.06-.94-2.06-.94L8.5 2.5l-.94 2.06-2.06.94zm10 10l.94 2.06.94-2.06 2.06-.94-2.06-.94-.94-2.06-.94 2.06-2.06.94z\"/><path d=\"M17.41 7.96l-1.37-1.37c-.4-.4-.92-.59-1.43-.59-.52 0-1.04.2-1.43.59L10.3 9.45l-7.72 7.72c-.78.78-.78 2.05 0 2.83L4 21.41c.39.39.9.59 1.41.59.51 0 1.02-.2 1.41-.59l7.78-7.78 2.81-2.81c.8-.78.8-2.07 0-2.86zM5.41 20L4 18.59l7.72-7.72 1.47 1.35L5.41 20z\"/>\n",
              "  </svg>\n",
              "      </button>\n",
              "      \n",
              "  <style>\n",
              "    .colab-df-container {\n",
              "      display:flex;\n",
              "      flex-wrap:wrap;\n",
              "      gap: 12px;\n",
              "    }\n",
              "\n",
              "    .colab-df-convert {\n",
              "      background-color: #E8F0FE;\n",
              "      border: none;\n",
              "      border-radius: 50%;\n",
              "      cursor: pointer;\n",
              "      display: none;\n",
              "      fill: #1967D2;\n",
              "      height: 32px;\n",
              "      padding: 0 0 0 0;\n",
              "      width: 32px;\n",
              "    }\n",
              "\n",
              "    .colab-df-convert:hover {\n",
              "      background-color: #E2EBFA;\n",
              "      box-shadow: 0px 1px 2px rgba(60, 64, 67, 0.3), 0px 1px 3px 1px rgba(60, 64, 67, 0.15);\n",
              "      fill: #174EA6;\n",
              "    }\n",
              "\n",
              "    [theme=dark] .colab-df-convert {\n",
              "      background-color: #3B4455;\n",
              "      fill: #D2E3FC;\n",
              "    }\n",
              "\n",
              "    [theme=dark] .colab-df-convert:hover {\n",
              "      background-color: #434B5C;\n",
              "      box-shadow: 0px 1px 3px 1px rgba(0, 0, 0, 0.15);\n",
              "      filter: drop-shadow(0px 1px 2px rgba(0, 0, 0, 0.3));\n",
              "      fill: #FFFFFF;\n",
              "    }\n",
              "  </style>\n",
              "\n",
              "      <script>\n",
              "        const buttonEl =\n",
              "          document.querySelector('#df-e9db3655-0bdd-4812-bf5d-67342a55ab54 button.colab-df-convert');\n",
              "        buttonEl.style.display =\n",
              "          google.colab.kernel.accessAllowed ? 'block' : 'none';\n",
              "\n",
              "        async function convertToInteractive(key) {\n",
              "          const element = document.querySelector('#df-e9db3655-0bdd-4812-bf5d-67342a55ab54');\n",
              "          const dataTable =\n",
              "            await google.colab.kernel.invokeFunction('convertToInteractive',\n",
              "                                                     [key], {});\n",
              "          if (!dataTable) return;\n",
              "\n",
              "          const docLinkHtml = 'Like what you see? Visit the ' +\n",
              "            '<a target=\"_blank\" href=https://colab.research.google.com/notebooks/data_table.ipynb>data table notebook</a>'\n",
              "            + ' to learn more about interactive tables.';\n",
              "          element.innerHTML = '';\n",
              "          dataTable['output_type'] = 'display_data';\n",
              "          await google.colab.output.renderOutput(dataTable, element);\n",
              "          const docLink = document.createElement('div');\n",
              "          docLink.innerHTML = docLinkHtml;\n",
              "          element.appendChild(docLink);\n",
              "        }\n",
              "      </script>\n",
              "    </div>\n",
              "  </div>\n",
              "  "
            ]
          },
          "metadata": {},
          "execution_count": 5
        }
      ],
      "source": [
        "pd.DataFrame(mnist.target).head()"
      ]
    },
    {
      "cell_type": "code",
      "execution_count": null,
      "id": "502dcfbf",
      "metadata": {
        "colab": {
          "base_uri": "https://localhost:8080/"
        },
        "id": "502dcfbf",
        "outputId": "43749056-48ef-4b65-9047-aa06dded678e"
      },
      "outputs": [
        {
          "output_type": "stream",
          "name": "stdout",
          "text": [
            "train data shape: (1797, 64)\n",
            "target data shape: (1797,)\n"
          ]
        }
      ],
      "source": [
        "print('train data shape:',mnist.data.shape)\n",
        "print('target data shape:',mnist.target.shape)"
      ]
    },
    {
      "cell_type": "code",
      "execution_count": null,
      "id": "0054a81c",
      "metadata": {
        "colab": {
          "base_uri": "https://localhost:8080/"
        },
        "id": "0054a81c",
        "outputId": "48948f25-57ee-4d6c-902e-8234d76fc906"
      },
      "outputs": [
        {
          "output_type": "stream",
          "name": "stdout",
          "text": [
            "data minimum: 0.0\n",
            "data maximum: 16.0\n"
          ]
        }
      ],
      "source": [
        "print('data minimum:',mnist.data.min())\n",
        "print('data maximum:',mnist.data.max())"
      ]
    },
    {
      "cell_type": "code",
      "execution_count": null,
      "id": "1792ccfa",
      "metadata": {
        "colab": {
          "base_uri": "https://localhost:8080/",
          "height": 333
        },
        "id": "1792ccfa",
        "outputId": "f8f8f603-0850-4ce5-c5b5-706b2a78f573"
      },
      "outputs": [
        {
          "output_type": "display_data",
          "data": {
            "text/plain": [
              "<Figure size 1152x432 with 20 Axes>"
            ],
            "image/png": "[encoded data removed]"
          },
          "metadata": {
            "needs_background": "light"
          }
        }
      ],
      "source": [
        "fig, axes = plt.subplots(2, 10, figsize=(16, 6))\n",
        "for i in range(20):\n",
        "    axes[i//10, i %10].imshow(mnist.images[i]);\n",
        "    axes[i//10, i %10].axis('off')\n",
        "    axes[i//10, i %10].set_title(f\"target: {mnist.target[i]}\")\n",
        "    \n",
        "plt.tight_layout()\n",
        "# from https://h1ros.github.io/posts/loading-scikit-learns-mnist-dataset/"
      ]
    },
    {
      "cell_type": "markdown",
      "id": "492baa04",
      "metadata": {
        "id": "492baa04"
      },
      "source": [
        "## Dataset modification\n"
      ]
    },
    {
      "cell_type": "code",
      "execution_count": null,
      "id": "2e057ddb",
      "metadata": {
        "id": "2e057ddb"
      },
      "outputs": [],
      "source": [
        "# change dataset name to X and y\n",
        "X = mnist.data\n",
        "y = mnist.target"
      ]
    },
    {
      "cell_type": "markdown",
      "id": "bf4c7ffa",
      "metadata": {
        "id": "bf4c7ffa"
      },
      "source": [
        "* Min-Max Standardization\n",
        "$X_{Stand} =\\frac{value-min}{max-min}$"
      ]
    },
    {
      "cell_type": "code",
      "execution_count": null,
      "id": "605fa087",
      "metadata": {
        "id": "605fa087"
      },
      "outputs": [],
      "source": [
        "# min-max standadization\n",
        "X/=16.0"
      ]
    },
    {
      "cell_type": "code",
      "execution_count": null,
      "id": "eeb02217",
      "metadata": {
        "colab": {
          "base_uri": "https://localhost:8080/"
        },
        "id": "eeb02217",
        "outputId": "7b1fb1ca-c401-4bc4-c862-a357db7593b6"
      },
      "outputs": [
        {
          "output_type": "stream",
          "name": "stdout",
          "text": [
            "0.0 1.0\n"
          ]
        }
      ],
      "source": [
        "print(X.min(), X.max())"
      ]
    },
    {
      "cell_type": "code",
      "execution_count": null,
      "id": "abb958a5",
      "metadata": {
        "colab": {
          "base_uri": "https://localhost:8080/"
        },
        "id": "abb958a5",
        "outputId": "deb71f1b-02de-470f-aab8-da4b57bf1fa4"
      },
      "outputs": [
        {
          "output_type": "stream",
          "name": "stdout",
          "text": [
            "(1437, 64) (360, 64)\n"
          ]
        }
      ],
      "source": [
        "# Split dataset into 3 : train, validation, and test\n",
        "X_train, X_test, y_train, y_test = train_test_split(X, y, test_size=0.2)\n",
        "print(X_train.shape, X_test.shape)"
      ]
    },
    {
      "cell_type": "code",
      "execution_count": null,
      "id": "3c0efd72",
      "metadata": {
        "colab": {
          "base_uri": "https://localhost:8080/"
        },
        "id": "3c0efd72",
        "outputId": "8ed2d192-f4c1-4949-bc3a-1464779d0981"
      },
      "outputs": [
        {
          "output_type": "stream",
          "name": "stdout",
          "text": [
            "0\n",
            "[[ 1.12279492  0.30280522]\n",
            " [ 0.07085926  0.07304142]\n",
            " [-1.42232584  1.52006949]]\n"
          ]
        }
      ],
      "source": [
        "np.random.seed(0) # set seed\n",
        "print(np.random.randint(3)) # 0~2까지 랜덤 int 생성\n",
        "print(np.random.randn(3,2)) # standard noraml distribution with (m,n) array"
      ]
    },
    {
      "cell_type": "markdown",
      "id": "7e803a38",
      "metadata": {
        "id": "7e803a38"
      },
      "source": [
        "## 2 layer- sigmoid using Numerical gradient"
      ]
    },
    {
      "cell_type": "code",
      "execution_count": null,
      "id": "555f0857",
      "metadata": {
        "id": "555f0857"
      },
      "outputs": [],
      "source": [
        "def sigmoid(x):\n",
        "    return 1 / (1+np.exp(-x))"
      ]
    },
    {
      "cell_type": "code",
      "execution_count": null,
      "id": "5a5f2dba",
      "metadata": {
        "id": "5a5f2dba"
      },
      "outputs": [],
      "source": [
        "def softmax(x):\n",
        "    if x.ndim == 2:\n",
        "        x = x.T\n",
        "        x = x - np.max(x, axis=0)\n",
        "        y = np.exp(x) / np.sum(np.exp(x), axis=0)\n",
        "        return y.T \n",
        "\n",
        "    x = x - np.max(x) # 오버플로 대책\n",
        "    return np.exp(x) / np.sum(np.exp(x))"
      ]
    },
    {
      "cell_type": "code",
      "execution_count": null,
      "id": "dcbe927a",
      "metadata": {
        "id": "dcbe927a"
      },
      "outputs": [],
      "source": [
        "def cross_entropy_error(y, labels):\n",
        "    if y.ndim == 1:\n",
        "        labels = labels.reshape(1, labels.size)\n",
        "        y = y.reshape(1, y.size)\n",
        "        \n",
        "    # 훈련 데이터가 원-핫 벡터라면 정답 레이블의 인덱스로 반환\n",
        "    if labels.size == y.size:\n",
        "        labels = labels.argmax(axis=1)\n",
        "             \n",
        "    batch_size = y.shape[0]\n",
        "    return -np.sum(np.log(y[np.arange(batch_size), labels])) / batch_size"
      ]
    },
    {
      "cell_type": "code",
      "execution_count": null,
      "id": "a772eeb2",
      "metadata": {
        "id": "a772eeb2"
      },
      "outputs": [],
      "source": [
        "def numerical_gradient(f, x):\n",
        "    h = 1e-4  # 0.0001\n",
        "    grad = np.zeros_like(x)\n",
        "\n",
        "    it = np.nditer(x, flags=['multi_index'], op_flags=['readwrite'])\n",
        "    while not it.finished:\n",
        "        idx = it.multi_index\n",
        "        tmp_val = x[idx]\n",
        "        x[idx] = float(tmp_val) + h\n",
        "        fxh1 = f(x)  # f(x+h)\n",
        "\n",
        "        x[idx] = tmp_val - h\n",
        "        fxh2 = f(x)  # f(x-h)\n",
        "        grad[idx] = (fxh1 - fxh2) / (2*h)\n",
        "\n",
        "        x[idx] = tmp_val  # 값 복원\n",
        "        it.iternext()\n",
        "\n",
        "    return grad"
      ]
    },
    {
      "cell_type": "code",
      "execution_count": null,
      "id": "bfa7749d",
      "metadata": {
        "id": "bfa7749d"
      },
      "outputs": [],
      "source": [
        "class TwoLayerNet:\n",
        "    def __init__(self, input_size, hidden_size, ouput_size, weight_init_std=0.01):\n",
        "        # 가중치 초기화\n",
        "        self.params = {}\n",
        "        self.params['W1'] = weight_init_std * np.random.randn(input_size, hidden_size)\n",
        "        self.params['b1'] = np.zeros(hidden_size)\n",
        "        self.params['W2'] = weight_init_std * np.random.randn(hidden_size, ouput_size)\n",
        "        self.params['b2'] = np.zeros(ouput_size)\n",
        "        \n",
        "    def predict(self, x):\n",
        "        W1, W2 = self.params['W1'], self.params['W2']\n",
        "        b1, b2 = self.params['b1'], self.params['b2']\n",
        "        \n",
        "        z1 = np.dot(x, W1) + b1\n",
        "        a1 = sigmoid(z1)\n",
        "        z2 = np.dot(a1, W2) +b2\n",
        "        y = softmax(z2)\n",
        "        return y\n",
        "    \n",
        "    # x:입력 데이터 labels: 정답\n",
        "    def loss(self, x, labels):\n",
        "        y = self.predict(x)\n",
        "        return cross_entropy_error(y, labels)\n",
        "    \n",
        "    def accuracy(self, x, labels):\n",
        "        y = self.predict(x)\n",
        "        y = np.argmax(y, axis=1)\n",
        "        \n",
        "        accuracy = np.sum(y == labels)/x.shape[0]\n",
        "        return accuracy\n",
        "    \n",
        "    def numerical_gradient(self, x, lables):\n",
        "        loss_W = lambda W :self.loss(x, lables)\n",
        "        \n",
        "        grads = {}\n",
        "        grads['W1'] = numerical_gradient(loss_W, self.params['W1'])\n",
        "        grads['b1'] = numerical_gradient(loss_W, self.params['b1'])\n",
        "        grads['W2'] = numerical_gradient(loss_W, self.params['W2'])\n",
        "        grads['b2'] = numerical_gradient(loss_W, self.params['b2'])\n",
        "        \n",
        "        return grads"
      ]
    },
    {
      "cell_type": "code",
      "execution_count": null,
      "id": "0494db4a",
      "metadata": {
        "colab": {
          "base_uri": "https://localhost:8080/"
        },
        "id": "0494db4a",
        "outputId": "087fd805-f452-461a-bd80-521c70f6617d"
      },
      "outputs": [
        {
          "output_type": "stream",
          "name": "stdout",
          "text": [
            "(64, 32)\n",
            "(32,)\n",
            "(32, 10)\n",
            "(10,)\n"
          ]
        }
      ],
      "source": [
        "net =TwoLayerNet(input_size=64 ,hidden_size=32, ouput_size=10)\n",
        "print(net.params['W1'].shape)\n",
        "print(net.params['b1'].shape)\n",
        "print(net.params['W2'].shape)\n",
        "print(net.params['b2'].shape)"
      ]
    },
    {
      "cell_type": "code",
      "execution_count": null,
      "id": "12fa9bd5",
      "metadata": {
        "id": "12fa9bd5"
      },
      "outputs": [],
      "source": [
        "train_loss_list=[]\n",
        "iters_num= 1000 # 반복횟수\n",
        "train_size = X_train.shape[0]\n",
        "batch_size = 100 # 미니배치 사이즈\n",
        "learning_rate = 0.1\n",
        "network = TwoLayerNet(input_size=64 ,hidden_size=32, ouput_size=10)"
      ]
    },
    {
      "cell_type": "code",
      "execution_count": null,
      "id": "ee46eded",
      "metadata": {
        "id": "ee46eded"
      },
      "outputs": [],
      "source": [
        "for i in range(iters_num):\n",
        "    # 미니 배치\n",
        "    batch_mask = np.random.choice(train_size, batch_size)\n",
        "    x_batch = X_train[batch_mask]\n",
        "    y_batch = y_train[batch_mask]\n",
        "    \n",
        "    # 기울기 계산\n",
        "    grad = network.numerical_gradient(x_batch, y_batch)\n",
        "    \n",
        "    # 매개변수 갱신\n",
        "    for key in ('W1','b1','W2','b2'):\n",
        "        network.params[key] -= learning_rate * grad[key]\n",
        "        \n",
        "    loss = network.loss(x_batch, y_batch)\n",
        "    train_loss_list.append(loss)"
      ]
    },
    {
      "cell_type": "code",
      "execution_count": null,
      "id": "af3f15e1",
      "metadata": {
        "colab": {
          "base_uri": "https://localhost:8080/",
          "height": 295
        },
        "id": "af3f15e1",
        "outputId": "6cc7d636-7b40-4d62-df7a-fac1c626bcef"
      },
      "outputs": [
        {
          "output_type": "display_data",
          "data": {
            "text/plain": [
              "<Figure size 432x288 with 1 Axes>"
            ],
            "image/png": "[encoded data removed]"
          },
          "metadata": {
            "needs_background": "light"
          }
        }
      ],
      "source": [
        "plt.plot(train_loss_list)\n",
        "plt.xlabel('Iteration')\n",
        "plt.ylabel('Loss')\n",
        "plt.title('Diminishing Loss as increasing interation')\n",
        "plt.show()\n"
      ]
    },
    {
      "cell_type": "markdown",
      "source": [
        "## 2 layer- sigmoid with validation dataset"
      ],
      "metadata": {
        "id": "JvYDU3RnMxr8"
      },
      "id": "JvYDU3RnMxr8"
    },
    {
      "cell_type": "code",
      "source": [
        "train_loss_list=[]\n",
        "train_acc_list = []\n",
        "test_acc_list = []\n",
        "\n",
        "iters_num= 1000 # 반복횟수\n",
        "train_size = X_train.shape[0]\n",
        "batch_size = 100 # 미니배치 사이즈\n",
        "learning_rate = 0.1\n",
        "\n",
        "network = TwoLayerNet(input_size=64 ,hidden_size=32, ouput_size=10)"
      ],
      "metadata": {
        "id": "mdWTPIvRBKbr"
      },
      "id": "mdWTPIvRBKbr",
      "execution_count": null,
      "outputs": []
    },
    {
      "cell_type": "code",
      "source": [
        "# 1 epoch당 반복수\n",
        "iter_per_epoch = int(max(train_size/batch_size, 1))"
      ],
      "metadata": {
        "id": "tO8v7lIGNpfW"
      },
      "id": "tO8v7lIGNpfW",
      "execution_count": null,
      "outputs": []
    },
    {
      "cell_type": "code",
      "source": [
        "for i in range(iters_num):\n",
        "    # 미니 배치\n",
        "    batch_mask = np.random.choice(train_size, batch_size)\n",
        "    x_batch = X_train[batch_mask]\n",
        "    y_batch = y_train[batch_mask]\n",
        "    \n",
        "    # 기울기 계산\n",
        "    grad = network.numerical_gradient(x_batch, y_batch)\n",
        "    \n",
        "    # 매개변수 갱신\n",
        "    for key in ('W1','b1','W2','b2'):\n",
        "        network.params[key] -= learning_rate * grad[key]\n",
        "        \n",
        "    loss = network.loss(x_batch, y_batch)\n",
        "    train_loss_list.append(loss)\n",
        "\n",
        "    if i % iter_per_epoch == 0:\n",
        "      train_acc = network.accuracy(X_train, y_train)\n",
        "      test_acc = network.accuracy(X_test, y_test)\n",
        "      train_acc_list.append(train_acc)\n",
        "      test_acc_list.append(test_acc)\n",
        "      print(\"train accuracy{:.3f}, test accuracy:{:.3f}\".format(train_acc, test_acc))\n"
      ],
      "metadata": {
        "colab": {
          "base_uri": "https://localhost:8080/"
        },
        "id": "5emoM57LN9o2",
        "outputId": "19cd9c47-f13d-4e03-cdcd-4473d64c1dcb"
      },
      "id": "5emoM57LN9o2",
      "execution_count": null,
      "outputs": [
        {
          "output_type": "stream",
          "name": "stdout",
          "text": [
            "train accuracy0.098, test accuracy:0.114\n",
            "train accuracy0.101, test accuracy:0.103\n",
            "train accuracy0.106, test accuracy:0.078\n",
            "train accuracy0.099, test accuracy:0.106\n",
            "train accuracy0.106, test accuracy:0.078\n",
            "train accuracy0.106, test accuracy:0.078\n",
            "train accuracy0.101, test accuracy:0.103\n",
            "train accuracy0.106, test accuracy:0.078\n",
            "train accuracy0.098, test accuracy:0.114\n",
            "train accuracy0.106, test accuracy:0.078\n",
            "train accuracy0.101, test accuracy:0.103\n",
            "train accuracy0.101, test accuracy:0.103\n",
            "train accuracy0.104, test accuracy:0.069\n",
            "train accuracy0.101, test accuracy:0.103\n",
            "train accuracy0.100, test accuracy:0.103\n",
            "train accuracy0.101, test accuracy:0.103\n",
            "train accuracy0.102, test accuracy:0.092\n",
            "train accuracy0.106, test accuracy:0.078\n",
            "train accuracy0.249, test accuracy:0.231\n",
            "train accuracy0.098, test accuracy:0.114\n",
            "train accuracy0.098, test accuracy:0.114\n",
            "train accuracy0.100, test accuracy:0.103\n",
            "train accuracy0.098, test accuracy:0.114\n",
            "train accuracy0.098, test accuracy:0.114\n",
            "train accuracy0.106, test accuracy:0.078\n",
            "train accuracy0.109, test accuracy:0.081\n",
            "train accuracy0.107, test accuracy:0.081\n",
            "train accuracy0.100, test accuracy:0.106\n",
            "train accuracy0.145, test accuracy:0.139\n",
            "train accuracy0.209, test accuracy:0.144\n",
            "train accuracy0.267, test accuracy:0.239\n",
            "train accuracy0.196, test accuracy:0.181\n",
            "train accuracy0.113, test accuracy:0.081\n",
            "train accuracy0.388, test accuracy:0.372\n",
            "train accuracy0.324, test accuracy:0.336\n",
            "train accuracy0.360, test accuracy:0.344\n",
            "train accuracy0.356, test accuracy:0.308\n",
            "train accuracy0.305, test accuracy:0.281\n",
            "train accuracy0.219, test accuracy:0.189\n",
            "train accuracy0.212, test accuracy:0.197\n",
            "train accuracy0.338, test accuracy:0.275\n",
            "train accuracy0.443, test accuracy:0.428\n",
            "train accuracy0.488, test accuracy:0.494\n",
            "train accuracy0.539, test accuracy:0.508\n",
            "train accuracy0.534, test accuracy:0.533\n",
            "train accuracy0.464, test accuracy:0.450\n",
            "train accuracy0.575, test accuracy:0.569\n",
            "train accuracy0.541, test accuracy:0.556\n",
            "train accuracy0.474, test accuracy:0.478\n",
            "train accuracy0.467, test accuracy:0.453\n",
            "train accuracy0.555, test accuracy:0.583\n",
            "train accuracy0.525, test accuracy:0.567\n",
            "train accuracy0.525, test accuracy:0.522\n",
            "train accuracy0.607, test accuracy:0.644\n",
            "train accuracy0.549, test accuracy:0.553\n",
            "train accuracy0.567, test accuracy:0.581\n",
            "train accuracy0.550, test accuracy:0.558\n",
            "train accuracy0.602, test accuracy:0.644\n",
            "train accuracy0.521, test accuracy:0.550\n",
            "train accuracy0.630, test accuracy:0.661\n",
            "train accuracy0.643, test accuracy:0.686\n",
            "train accuracy0.634, test accuracy:0.653\n",
            "train accuracy0.711, test accuracy:0.750\n",
            "train accuracy0.708, test accuracy:0.731\n",
            "train accuracy0.683, test accuracy:0.700\n",
            "train accuracy0.775, test accuracy:0.797\n",
            "train accuracy0.709, test accuracy:0.714\n",
            "train accuracy0.677, test accuracy:0.703\n",
            "train accuracy0.717, test accuracy:0.758\n",
            "train accuracy0.745, test accuracy:0.781\n",
            "train accuracy0.759, test accuracy:0.808\n",
            "train accuracy0.736, test accuracy:0.769\n"
          ]
        }
      ]
    },
    {
      "cell_type": "code",
      "source": [
        "plt.plot(train_acc_list,'-b')\n",
        "plt.plot(test_acc_list,'--r')\n",
        "plt.xlabel('Epoch')\n",
        "plt.ylabel('Accuracy')\n",
        "plt.title('Comparing training and test data set accuracy')\n",
        "plt.show()"
      ],
      "metadata": {
        "colab": {
          "base_uri": "https://localhost:8080/",
          "height": 295
        },
        "id": "9VuLIMGLRb-l",
        "outputId": "84dd8415-b7ad-439f-e920-a61dd2729adc"
      },
      "id": "9VuLIMGLRb-l",
      "execution_count": null,
      "outputs": [
        {
          "output_type": "display_data",
          "data": {
            "text/plain": [
              "<Figure size 432x288 with 1 Axes>"
            ],
            "image/png": "[encoded data removed]"
          },
          "metadata": {
            "needs_background": "light"
          }
        }
      ]
    },
    {
      "cell_type": "markdown",
      "source": [
        "***학습이 진행될수록 훈련데이터와 시험 데이터의 정확도가 좋아지고 있다. 두 데이터 정확도의 차이가 거의 없으므로 오버피팅이 일어나지 않았다. 오버피팅이 일어나면 어느 순간 테스트 데이터 셋의 정확도가 점차 떨어지기 시작한다.***"
      ],
      "metadata": {
        "id": "nNm_yzpygWEJ"
      },
      "id": "nNm_yzpygWEJ"
    },
    {
      "cell_type": "code",
      "source": [],
      "metadata": {
        "id": "_VDs9S-ktf5D"
      },
      "id": "_VDs9S-ktf5D",
      "execution_count": null,
      "outputs": []
    }
  ],
  "metadata": {
    "kernelspec": {
      "display_name": "Python 3 (ipykernel)",
      "language": "python",
      "name": "python3"
    },
    "language_info": {
      "codemirror_mode": {
        "name": "ipython",
        "version": 3
      },
      "file_extension": ".py",
      "mimetype": "text/x-python",
      "name": "python",
      "nbconvert_exporter": "python",
      "pygments_lexer": "ipython3",
      "version": "3.8.12"
    },
    "toc": {
      "base_numbering": 1,
      "nav_menu": {},
      "number_sections": true,
      "sideBar": true,
      "skip_h1_title": true,
      "title_cell": "Table of Contents",
      "title_sidebar": "Contents",
      "toc_cell": false,
      "toc_position": {},
      "toc_section_display": true,
      "toc_window_display": false
    },
    "varInspector": {
      "cols": {
        "lenName": 16,
        "lenType": 16,
        "lenVar": 40
      },
      "kernels_config": {
        "python": {
          "delete_cmd_postfix": "",
          "delete_cmd_prefix": "del ",
          "library": "var_list.py",
          "varRefreshCmd": "print(var_dic_list())"
        },
        "r": {
          "delete_cmd_postfix": ") ",
          "delete_cmd_prefix": "rm(",
          "library": "var_list.r",
          "varRefreshCmd": "cat(var_dic_list()) "
        }
      },
      "types_to_exclude": [
        "module",
        "function",
        "builtin_function_or_method",
        "instance",
        "_Feature"
      ],
      "window_display": false
    },
    "colab": {
      "provenance": [],
      "include_colab_link": true
    }
  },
  "nbformat": 4,
  "nbformat_minor": 5
}