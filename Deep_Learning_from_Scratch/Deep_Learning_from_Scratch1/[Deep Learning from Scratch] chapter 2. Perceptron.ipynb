{
 "cells": [
  {
   "cell_type": "markdown",
   "id": "4a2f88c2",
   "metadata": {},
   "source": [
    "# Perceptron\n",
    "## What is Perceptron?\n",
    "- 다수의 신호를 입력 받아 하나의 신호를 출력, 신호는 (0 or 1) 두 개의 값을 가짐\n",
    "- 각 입력값이 뉴런(노드)에 보내질때에는 각각 고유한 가중치가 곱해짐.\n",
    "- 뉴런에서 보내온 신호의 총합이 정해진 한계(임계값)를 넘어서야 1을 출력함(활성화 한다)\n",
    "> $ y =\n",
    "\\begin{cases}\n",
    "0, & \\mbox{if }(w_1x_1+w_2x_2 \\le \\theta) \\mbox{}\\\\  \n",
    "1, & \\mbox{if }(w_1x_1+w_2x_2 > \\theta )\\mbox{}\n",
    "\\end{cases}$\n",
    "\n",
    "- 가중치는 각 신호가 결과에 주는 영향력을 조절하는 요소로 작용\n",
    "- 퍼셉트론의 매개변수 값을 정하는 것은 컴퓨터가 아닌 인간! 인간이 직접 학습데이터를 보면서 매개변수 값을 정함\n",
    "- 머신러닝 문제는 매개변수 값을 정하는 작업을 컴퓨터가 자동으로 하도록함(학습: 적절한 매개변수를 정하는 작업)"
   ]
  },
  {
   "cell_type": "markdown",
   "id": "6dd47b6e",
   "metadata": {},
   "source": [
    "## 퍼셉트론 구현\n",
    "### 간단한 구현: AND 함수구현\n",
    "- $x_1$ 과 $x_2$가 1일 때만 1을 출력하고 그 외에는 0을 출력 \n",
    "- AND gate를 만족시키는 매개변수의 조합은 무수히 많다"
   ]
  },
  {
   "cell_type": "code",
   "execution_count": 1,
   "id": "953a1a11",
   "metadata": {},
   "outputs": [],
   "source": [
    "def AND(x1, x2):\n",
    "    w1, w2 , theta = 0.5, 0.5, 0.7\n",
    "    tmp = x1*w1 +x2*w2\n",
    "    if tmp<= theta:\n",
    "        return 0\n",
    "    elif tmp> theta:\n",
    "        return 1"
   ]
  },
  {
   "cell_type": "code",
   "execution_count": 2,
   "id": "7d62be4b",
   "metadata": {},
   "outputs": [
    {
     "name": "stdout",
     "output_type": "stream",
     "text": [
      "0\n",
      "0\n",
      "0\n",
      "1\n"
     ]
    }
   ],
   "source": [
    "print(AND(0,0))\n",
    "print(AND(1,0))\n",
    "print(AND(0,1))\n",
    "print(AND(1,1))"
   ]
  },
  {
   "cell_type": "markdown",
   "id": "f4d3a699",
   "metadata": {},
   "source": [
    "###  가중치와 편향 도입\n",
    "- $w_1$, $w_2$( 가중치)는 입력신호가 결과에 주는 영향력(중요도)를 조절하는 매개변수\n",
    "- $b$ (편향, bias)는 뉴력이 얼마나 쉽게 활성화 하느냐를 조정하는 매개변수"
   ]
  },
  {
   "cell_type": "code",
   "execution_count": 3,
   "id": "9dff3c44",
   "metadata": {},
   "outputs": [],
   "source": [
    "import numpy as np"
   ]
  },
  {
   "cell_type": "code",
   "execution_count": 4,
   "id": "c536d743",
   "metadata": {},
   "outputs": [
    {
     "data": {
      "text/plain": [
       "-0.19999999999999996"
      ]
     },
     "execution_count": 4,
     "metadata": {},
     "output_type": "execute_result"
    }
   ],
   "source": [
    "x = np.array([0, 1]) # 입력\n",
    "w = np.array([0.5, 0.5]) # 가중치\n",
    "b = -0.7 # 편향\n",
    "np.sum(w*x)+b"
   ]
  },
  {
   "cell_type": "markdown",
   "id": "2f60f5e4",
   "metadata": {},
   "source": [
    "#### AND Gate"
   ]
  },
  {
   "cell_type": "code",
   "execution_count": 5,
   "id": "cbb3aff1",
   "metadata": {},
   "outputs": [],
   "source": [
    "def AND(x1, x2):\n",
    "    x = np.array([x1, x2])\n",
    "    w = np.array([0.5, 0.5])\n",
    "    b = -0.7\n",
    "    tmp = np.sum(w*x)+b\n",
    "    if tmp <= 0:\n",
    "        return 0\n",
    "    else:\n",
    "        return 1"
   ]
  },
  {
   "cell_type": "markdown",
   "id": "22a63a9a",
   "metadata": {},
   "source": [
    "#### NAND Gate( Not AND)\n",
    "- $x_1$과 $x_2$ 모두 1일 때 만 0을 출력하고 그 외에는 1을 출력한다. "
   ]
  },
  {
   "cell_type": "code",
   "execution_count": 6,
   "id": "25727f64",
   "metadata": {},
   "outputs": [],
   "source": [
    "def NAND(x1, x2): # \n",
    "    x = np.array([x1, x2])\n",
    "    w = np.array([-0.5, -0.5]) # AND와 가중치만 다르다\n",
    "    b= 0.7\n",
    "    tmp = np.sum(w*x) + b\n",
    "    if tmp <= 0:\n",
    "        return 0\n",
    "    else:\n",
    "        return 1"
   ]
  },
  {
   "cell_type": "markdown",
   "id": "80780abf",
   "metadata": {},
   "source": [
    "#### OR Gate\n",
    "- $x_1$ or $x_2$ 둘 중 하나라도 1이면 1이 출력되고 모두 0이면 0을 출력한다. "
   ]
  },
  {
   "cell_type": "code",
   "execution_count": 7,
   "id": "5089bb46",
   "metadata": {},
   "outputs": [],
   "source": [
    "def OR(x1, x2):\n",
    "    x = np.array([x1, x2])\n",
    "    w = np.array([0.5, 0.5])\n",
    "    b = -0.2\n",
    "    tmp = np.sum(w*x)+b\n",
    "    if tmp <=0:\n",
    "        return 0\n",
    "    else:\n",
    "        return 1"
   ]
  },
  {
   "cell_type": "markdown",
   "id": "7441865e",
   "metadata": {},
   "source": [
    "### 퍼셉트론의 한계\n",
    "- 배타적 논리 합: 즉 $x_1$, $x_2$중 한쪽만 1인 경우 1을 출력하는 경우 단층 퍼셉트론으로 출력 불가\n",
    "- 단층 퍼셉트론(선형)으로는 비선형적인 영역을 표현할 수 없음\n",
    "- 층을 쌓아 만든 다층 퍼셉트론으로 구현"
   ]
  },
  {
   "cell_type": "markdown",
   "id": "e48a8402",
   "metadata": {},
   "source": [
    "#### XOR Gate"
   ]
  },
  {
   "cell_type": "code",
   "execution_count": 8,
   "id": "21f6706a",
   "metadata": {},
   "outputs": [],
   "source": [
    "def XOR(x1, x2):\n",
    "    s1 = NAND(x1, x2)\n",
    "    s2 = OR(x1, x2)\n",
    "    y = AND(s1, s2)\n",
    "    return y"
   ]
  },
  {
   "cell_type": "code",
   "execution_count": 9,
   "id": "788a422a",
   "metadata": {},
   "outputs": [
    {
     "name": "stdout",
     "output_type": "stream",
     "text": [
      "0\n",
      "1\n",
      "1\n",
      "0\n"
     ]
    }
   ],
   "source": [
    "print(XOR(0, 0))\n",
    "print(XOR(0, 1))\n",
    "print(XOR(1, 0))\n",
    "print(XOR(1, 1))"
   ]
  },
  {
   "cell_type": "markdown",
   "id": "539300a0",
   "metadata": {},
   "source": [
    "**Summary** \n",
    "- 퍼셉트론은 입출력을 갖춘 알고리즘 이다. 입력을 주면 정해진 규칙에 따른 값을 출력한다.\n",
    "- 퍼셉트로에서는 가중치와 편향을 매개변수로 설정한다\n",
    "- 퍼셉트론에서는 AND, OR 게이트 등 논리 회로를 표현할 수 있다.\n",
    "- XOR 게이트는 단층 퍼셉트론으로 표현할 수 없다.\n",
    "- 2층 퍼셉트론을 이용하면 XOR 게이트를 표현할 수 있다.\n",
    "- 단층 퍼셉트론은 직선형 영역만 표현할 수 있고 다층 퍼셉트론은 비선형 영역도 표현할 수 있다."
   ]
  },
  {
   "cell_type": "markdown",
   "id": "a25919b3",
   "metadata": {},
   "source": [
    "***Reference***\n",
    "\n",
    "밑바닥부터 시작하는 딥러닝, 사이토 고키 "
   ]
  }
 ],
 "metadata": {
  "kernelspec": {
   "display_name": "Python 3 (ipykernel)",
   "language": "python",
   "name": "python3"
  },
  "language_info": {
   "codemirror_mode": {
    "name": "ipython",
    "version": 3
   },
   "file_extension": ".py",
   "mimetype": "text/x-python",
   "name": "python",
   "nbconvert_exporter": "python",
   "pygments_lexer": "ipython3",
   "version": "3.8.12"
  },
  "toc": {
   "base_numbering": 1,
   "nav_menu": {},
   "number_sections": true,
   "sideBar": true,
   "skip_h1_title": false,
   "title_cell": "Table of Contents",
   "title_sidebar": "Contents",
   "toc_cell": false,
   "toc_position": {},
   "toc_section_display": true,
   "toc_window_display": false
  },
  "varInspector": {
   "cols": {
    "lenName": 16,
    "lenType": 16,
    "lenVar": 40
   },
   "kernels_config": {
    "python": {
     "delete_cmd_postfix": "",
     "delete_cmd_prefix": "del ",
     "library": "var_list.py",
     "varRefreshCmd": "print(var_dic_list())"
    },
    "r": {
     "delete_cmd_postfix": ") ",
     "delete_cmd_prefix": "rm(",
     "library": "var_list.r",
     "varRefreshCmd": "cat(var_dic_list()) "
    }
   },
   "types_to_exclude": [
    "module",
    "function",
    "builtin_function_or_method",
    "instance",
    "_Feature"
   ],
   "window_display": false
  }
 },
 "nbformat": 4,
 "nbformat_minor": 5
}
